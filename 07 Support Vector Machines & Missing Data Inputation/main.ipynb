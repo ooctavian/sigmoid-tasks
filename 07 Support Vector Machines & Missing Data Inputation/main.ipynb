{
 "cells": [
  {
   "metadata": {},
   "cell_type": "markdown",
   "source": [
    "# Chronic Kidney Disease\n",
    "In this notebook, I plan to analyze a dataset containing health metrics, process data and create a model which will predict if a person has chronic kidney diseases. The dataset contains the following features:\n",
    "- **Age** (numerical): age in years  \n",
    "- **Blood Pressure** (numerical): bp in mm/Hg  \n",
    "- **Specific Gravity** (nominal): sg - (1.005, 1.010, 1.015, 1.020, 1.025)  \n",
    "- **Albumin** (nominal): al - (0, 1, 2, 3, 4, 5)  \n",
    "- **Sugar** (nominal): su - (0, 1, 2, 3, 4, 5)  \n",
    "- **Red Blood Cells** (nominal): rbc - (normal, abnormal)  \n",
    "- **Pus Cell** (nominal): pc - (normal, abnormal)  \n",
    "- **Pus Cell Clumps** (nominal): pcc - (present, not present)  \n",
    "- **Bacteria** (nominal): ba - (present, not present)  \n",
    "- **Blood Glucose Random** (numerical): bgr in mg/dl  \n",
    "- **Blood Urea** (numerical): bu in mg/dl  \n",
    "- **Serum Creatinine** (numerical): sc in mg/dl  \n",
    "- **Sodium** (numerical): sod in mEq/L  \n",
    "- **Potassium** (numerical): pot in mEq/L  \n",
    "- **Hemoglobin** (numerical): hemo in gms  \n",
    "- **Packed Cell Volume** (numerical)  \n",
    "- **White Blood Cell Count** (numerical): wc in cells/cumm  \n",
    "- **Red Blood Cell Count** (numerical): rc in millions/cmm  \n",
    "- **Hypertension** (nominal): htn - (yes, no)  \n",
    "- **Diabetes Mellitus** (nominal): dm - (yes, no)  \n",
    "- **Coronary Artery Disease** (nominal): cad - (yes, no)  \n",
    "- **Appetite** (nominal): appet - (good, poor)  \n",
    "- **Pedal Edema** (nominal): pe - (yes, no)  \n",
    "- **Anemia** (nominal): ane - (yes, no)  \n",
    "- **Class** (nominal): class - (ckd, not ckd)  \n"
   ],
   "id": "d4b374a29cd5c040"
  },
  {
   "metadata": {},
   "cell_type": "markdown",
   "source": "## Library Import ",
   "id": "d9efa21b484f1650"
  },
  {
   "cell_type": "code",
   "id": "initial_id",
   "metadata": {
    "collapsed": true,
    "ExecuteTime": {
     "end_time": "2024-10-15T19:16:35.996047Z",
     "start_time": "2024-10-15T19:16:35.986416Z"
    }
   },
   "source": [
    "import pandas as pd\n",
    "import numpy as np\n",
    "import matplotlib.pyplot as plt\n",
    "import seaborn as sns\n",
    "from sklearn.decomposition import PCA\n",
    "from sklearn.experimental import enable_iterative_imputer\n",
    "from sklearn.impute import KNNImputer, SimpleImputer, IterativeImputer\n",
    "from sklearn.linear_model import LogisticRegression\n",
    "from sklearn.metrics import accuracy_score, f1_score, classification_report\n",
    "from sklearn.model_selection import train_test_split, GridSearchCV\n",
    "from sklearn.naive_bayes import BernoulliNB\n",
    "from sklearn.svm import SVC\n",
    "from sklearn.tree import DecisionTreeClassifier\n",
    "\n",
    "pd.set_option(\"future.no_silent_downcasting\", True)"
   ],
   "outputs": [],
   "execution_count": 832
  },
  {
   "metadata": {},
   "cell_type": "markdown",
   "source": "## Importing the dataset",
   "id": "6ef12f2ca5e95b6d"
  },
  {
   "metadata": {
    "ExecuteTime": {
     "end_time": "2024-10-15T19:16:36.084802Z",
     "start_time": "2024-10-15T19:16:36.067990Z"
    }
   },
   "cell_type": "code",
   "source": [
    "df = pd.read_csv('kidney_disease.csv')\n",
    "df.head()"
   ],
   "id": "3245b5612ca48f3a",
   "outputs": [
    {
     "data": {
      "text/plain": [
       "   id   age    bp     sg   al   su     rbc        pc         pcc          ba  \\\n",
       "0   0  48.0  80.0  1.020  1.0  0.0     NaN    normal  notpresent  notpresent   \n",
       "1   1   7.0  50.0  1.020  4.0  0.0     NaN    normal  notpresent  notpresent   \n",
       "2   2  62.0  80.0  1.010  2.0  3.0  normal    normal  notpresent  notpresent   \n",
       "3   3  48.0  70.0  1.005  4.0  0.0  normal  abnormal     present  notpresent   \n",
       "4   4  51.0  80.0  1.010  2.0  0.0  normal    normal  notpresent  notpresent   \n",
       "\n",
       "   ...  pcv    wc   rc  htn   dm  cad appet   pe  ane classification  \n",
       "0  ...   44  7800  5.2  yes  yes   no  good   no   no            ckd  \n",
       "1  ...   38  6000  NaN   no   no   no  good   no   no            ckd  \n",
       "2  ...   31  7500  NaN   no  yes   no  poor   no  yes            ckd  \n",
       "3  ...   32  6700  3.9  yes   no   no  poor  yes  yes            ckd  \n",
       "4  ...   35  7300  4.6   no   no   no  good   no   no            ckd  \n",
       "\n",
       "[5 rows x 26 columns]"
      ],
      "text/html": [
       "<div>\n",
       "<style scoped>\n",
       "    .dataframe tbody tr th:only-of-type {\n",
       "        vertical-align: middle;\n",
       "    }\n",
       "\n",
       "    .dataframe tbody tr th {\n",
       "        vertical-align: top;\n",
       "    }\n",
       "\n",
       "    .dataframe thead th {\n",
       "        text-align: right;\n",
       "    }\n",
       "</style>\n",
       "<table border=\"1\" class=\"dataframe\">\n",
       "  <thead>\n",
       "    <tr style=\"text-align: right;\">\n",
       "      <th></th>\n",
       "      <th>id</th>\n",
       "      <th>age</th>\n",
       "      <th>bp</th>\n",
       "      <th>sg</th>\n",
       "      <th>al</th>\n",
       "      <th>su</th>\n",
       "      <th>rbc</th>\n",
       "      <th>pc</th>\n",
       "      <th>pcc</th>\n",
       "      <th>ba</th>\n",
       "      <th>...</th>\n",
       "      <th>pcv</th>\n",
       "      <th>wc</th>\n",
       "      <th>rc</th>\n",
       "      <th>htn</th>\n",
       "      <th>dm</th>\n",
       "      <th>cad</th>\n",
       "      <th>appet</th>\n",
       "      <th>pe</th>\n",
       "      <th>ane</th>\n",
       "      <th>classification</th>\n",
       "    </tr>\n",
       "  </thead>\n",
       "  <tbody>\n",
       "    <tr>\n",
       "      <th>0</th>\n",
       "      <td>0</td>\n",
       "      <td>48.0</td>\n",
       "      <td>80.0</td>\n",
       "      <td>1.020</td>\n",
       "      <td>1.0</td>\n",
       "      <td>0.0</td>\n",
       "      <td>NaN</td>\n",
       "      <td>normal</td>\n",
       "      <td>notpresent</td>\n",
       "      <td>notpresent</td>\n",
       "      <td>...</td>\n",
       "      <td>44</td>\n",
       "      <td>7800</td>\n",
       "      <td>5.2</td>\n",
       "      <td>yes</td>\n",
       "      <td>yes</td>\n",
       "      <td>no</td>\n",
       "      <td>good</td>\n",
       "      <td>no</td>\n",
       "      <td>no</td>\n",
       "      <td>ckd</td>\n",
       "    </tr>\n",
       "    <tr>\n",
       "      <th>1</th>\n",
       "      <td>1</td>\n",
       "      <td>7.0</td>\n",
       "      <td>50.0</td>\n",
       "      <td>1.020</td>\n",
       "      <td>4.0</td>\n",
       "      <td>0.0</td>\n",
       "      <td>NaN</td>\n",
       "      <td>normal</td>\n",
       "      <td>notpresent</td>\n",
       "      <td>notpresent</td>\n",
       "      <td>...</td>\n",
       "      <td>38</td>\n",
       "      <td>6000</td>\n",
       "      <td>NaN</td>\n",
       "      <td>no</td>\n",
       "      <td>no</td>\n",
       "      <td>no</td>\n",
       "      <td>good</td>\n",
       "      <td>no</td>\n",
       "      <td>no</td>\n",
       "      <td>ckd</td>\n",
       "    </tr>\n",
       "    <tr>\n",
       "      <th>2</th>\n",
       "      <td>2</td>\n",
       "      <td>62.0</td>\n",
       "      <td>80.0</td>\n",
       "      <td>1.010</td>\n",
       "      <td>2.0</td>\n",
       "      <td>3.0</td>\n",
       "      <td>normal</td>\n",
       "      <td>normal</td>\n",
       "      <td>notpresent</td>\n",
       "      <td>notpresent</td>\n",
       "      <td>...</td>\n",
       "      <td>31</td>\n",
       "      <td>7500</td>\n",
       "      <td>NaN</td>\n",
       "      <td>no</td>\n",
       "      <td>yes</td>\n",
       "      <td>no</td>\n",
       "      <td>poor</td>\n",
       "      <td>no</td>\n",
       "      <td>yes</td>\n",
       "      <td>ckd</td>\n",
       "    </tr>\n",
       "    <tr>\n",
       "      <th>3</th>\n",
       "      <td>3</td>\n",
       "      <td>48.0</td>\n",
       "      <td>70.0</td>\n",
       "      <td>1.005</td>\n",
       "      <td>4.0</td>\n",
       "      <td>0.0</td>\n",
       "      <td>normal</td>\n",
       "      <td>abnormal</td>\n",
       "      <td>present</td>\n",
       "      <td>notpresent</td>\n",
       "      <td>...</td>\n",
       "      <td>32</td>\n",
       "      <td>6700</td>\n",
       "      <td>3.9</td>\n",
       "      <td>yes</td>\n",
       "      <td>no</td>\n",
       "      <td>no</td>\n",
       "      <td>poor</td>\n",
       "      <td>yes</td>\n",
       "      <td>yes</td>\n",
       "      <td>ckd</td>\n",
       "    </tr>\n",
       "    <tr>\n",
       "      <th>4</th>\n",
       "      <td>4</td>\n",
       "      <td>51.0</td>\n",
       "      <td>80.0</td>\n",
       "      <td>1.010</td>\n",
       "      <td>2.0</td>\n",
       "      <td>0.0</td>\n",
       "      <td>normal</td>\n",
       "      <td>normal</td>\n",
       "      <td>notpresent</td>\n",
       "      <td>notpresent</td>\n",
       "      <td>...</td>\n",
       "      <td>35</td>\n",
       "      <td>7300</td>\n",
       "      <td>4.6</td>\n",
       "      <td>no</td>\n",
       "      <td>no</td>\n",
       "      <td>no</td>\n",
       "      <td>good</td>\n",
       "      <td>no</td>\n",
       "      <td>no</td>\n",
       "      <td>ckd</td>\n",
       "    </tr>\n",
       "  </tbody>\n",
       "</table>\n",
       "<p>5 rows × 26 columns</p>\n",
       "</div>"
      ]
     },
     "execution_count": 833,
     "metadata": {},
     "output_type": "execute_result"
    }
   ],
   "execution_count": 833
  },
  {
   "metadata": {},
   "cell_type": "markdown",
   "source": "As seen from the first rows, we have null values and data which will have to encode later(present/notpresent, normal/abnormal)",
   "id": "465e7d432a1e1616"
  },
  {
   "metadata": {
    "ExecuteTime": {
     "end_time": "2024-10-15T19:16:36.955789Z",
     "start_time": "2024-10-15T19:16:36.926807Z"
    }
   },
   "cell_type": "code",
   "source": "df.describe()",
   "id": "b895cb4e0777eaf5",
   "outputs": [
    {
     "data": {
      "text/plain": [
       "               id         age          bp          sg          al          su  \\\n",
       "count  400.000000  391.000000  388.000000  353.000000  354.000000  351.000000   \n",
       "mean   199.500000   51.483376   76.469072    1.017408    1.016949    0.450142   \n",
       "std    115.614301   17.169714   13.683637    0.005717    1.352679    1.099191   \n",
       "min      0.000000    2.000000   50.000000    1.005000    0.000000    0.000000   \n",
       "25%     99.750000   42.000000   70.000000    1.010000    0.000000    0.000000   \n",
       "50%    199.500000   55.000000   80.000000    1.020000    0.000000    0.000000   \n",
       "75%    299.250000   64.500000   80.000000    1.020000    2.000000    0.000000   \n",
       "max    399.000000   90.000000  180.000000    1.025000    5.000000    5.000000   \n",
       "\n",
       "              bgr          bu          sc         sod         pot        hemo  \n",
       "count  356.000000  381.000000  383.000000  313.000000  312.000000  348.000000  \n",
       "mean   148.036517   57.425722    3.072454  137.528754    4.627244   12.526437  \n",
       "std     79.281714   50.503006    5.741126   10.408752    3.193904    2.912587  \n",
       "min     22.000000    1.500000    0.400000    4.500000    2.500000    3.100000  \n",
       "25%     99.000000   27.000000    0.900000  135.000000    3.800000   10.300000  \n",
       "50%    121.000000   42.000000    1.300000  138.000000    4.400000   12.650000  \n",
       "75%    163.000000   66.000000    2.800000  142.000000    4.900000   15.000000  \n",
       "max    490.000000  391.000000   76.000000  163.000000   47.000000   17.800000  "
      ],
      "text/html": [
       "<div>\n",
       "<style scoped>\n",
       "    .dataframe tbody tr th:only-of-type {\n",
       "        vertical-align: middle;\n",
       "    }\n",
       "\n",
       "    .dataframe tbody tr th {\n",
       "        vertical-align: top;\n",
       "    }\n",
       "\n",
       "    .dataframe thead th {\n",
       "        text-align: right;\n",
       "    }\n",
       "</style>\n",
       "<table border=\"1\" class=\"dataframe\">\n",
       "  <thead>\n",
       "    <tr style=\"text-align: right;\">\n",
       "      <th></th>\n",
       "      <th>id</th>\n",
       "      <th>age</th>\n",
       "      <th>bp</th>\n",
       "      <th>sg</th>\n",
       "      <th>al</th>\n",
       "      <th>su</th>\n",
       "      <th>bgr</th>\n",
       "      <th>bu</th>\n",
       "      <th>sc</th>\n",
       "      <th>sod</th>\n",
       "      <th>pot</th>\n",
       "      <th>hemo</th>\n",
       "    </tr>\n",
       "  </thead>\n",
       "  <tbody>\n",
       "    <tr>\n",
       "      <th>count</th>\n",
       "      <td>400.000000</td>\n",
       "      <td>391.000000</td>\n",
       "      <td>388.000000</td>\n",
       "      <td>353.000000</td>\n",
       "      <td>354.000000</td>\n",
       "      <td>351.000000</td>\n",
       "      <td>356.000000</td>\n",
       "      <td>381.000000</td>\n",
       "      <td>383.000000</td>\n",
       "      <td>313.000000</td>\n",
       "      <td>312.000000</td>\n",
       "      <td>348.000000</td>\n",
       "    </tr>\n",
       "    <tr>\n",
       "      <th>mean</th>\n",
       "      <td>199.500000</td>\n",
       "      <td>51.483376</td>\n",
       "      <td>76.469072</td>\n",
       "      <td>1.017408</td>\n",
       "      <td>1.016949</td>\n",
       "      <td>0.450142</td>\n",
       "      <td>148.036517</td>\n",
       "      <td>57.425722</td>\n",
       "      <td>3.072454</td>\n",
       "      <td>137.528754</td>\n",
       "      <td>4.627244</td>\n",
       "      <td>12.526437</td>\n",
       "    </tr>\n",
       "    <tr>\n",
       "      <th>std</th>\n",
       "      <td>115.614301</td>\n",
       "      <td>17.169714</td>\n",
       "      <td>13.683637</td>\n",
       "      <td>0.005717</td>\n",
       "      <td>1.352679</td>\n",
       "      <td>1.099191</td>\n",
       "      <td>79.281714</td>\n",
       "      <td>50.503006</td>\n",
       "      <td>5.741126</td>\n",
       "      <td>10.408752</td>\n",
       "      <td>3.193904</td>\n",
       "      <td>2.912587</td>\n",
       "    </tr>\n",
       "    <tr>\n",
       "      <th>min</th>\n",
       "      <td>0.000000</td>\n",
       "      <td>2.000000</td>\n",
       "      <td>50.000000</td>\n",
       "      <td>1.005000</td>\n",
       "      <td>0.000000</td>\n",
       "      <td>0.000000</td>\n",
       "      <td>22.000000</td>\n",
       "      <td>1.500000</td>\n",
       "      <td>0.400000</td>\n",
       "      <td>4.500000</td>\n",
       "      <td>2.500000</td>\n",
       "      <td>3.100000</td>\n",
       "    </tr>\n",
       "    <tr>\n",
       "      <th>25%</th>\n",
       "      <td>99.750000</td>\n",
       "      <td>42.000000</td>\n",
       "      <td>70.000000</td>\n",
       "      <td>1.010000</td>\n",
       "      <td>0.000000</td>\n",
       "      <td>0.000000</td>\n",
       "      <td>99.000000</td>\n",
       "      <td>27.000000</td>\n",
       "      <td>0.900000</td>\n",
       "      <td>135.000000</td>\n",
       "      <td>3.800000</td>\n",
       "      <td>10.300000</td>\n",
       "    </tr>\n",
       "    <tr>\n",
       "      <th>50%</th>\n",
       "      <td>199.500000</td>\n",
       "      <td>55.000000</td>\n",
       "      <td>80.000000</td>\n",
       "      <td>1.020000</td>\n",
       "      <td>0.000000</td>\n",
       "      <td>0.000000</td>\n",
       "      <td>121.000000</td>\n",
       "      <td>42.000000</td>\n",
       "      <td>1.300000</td>\n",
       "      <td>138.000000</td>\n",
       "      <td>4.400000</td>\n",
       "      <td>12.650000</td>\n",
       "    </tr>\n",
       "    <tr>\n",
       "      <th>75%</th>\n",
       "      <td>299.250000</td>\n",
       "      <td>64.500000</td>\n",
       "      <td>80.000000</td>\n",
       "      <td>1.020000</td>\n",
       "      <td>2.000000</td>\n",
       "      <td>0.000000</td>\n",
       "      <td>163.000000</td>\n",
       "      <td>66.000000</td>\n",
       "      <td>2.800000</td>\n",
       "      <td>142.000000</td>\n",
       "      <td>4.900000</td>\n",
       "      <td>15.000000</td>\n",
       "    </tr>\n",
       "    <tr>\n",
       "      <th>max</th>\n",
       "      <td>399.000000</td>\n",
       "      <td>90.000000</td>\n",
       "      <td>180.000000</td>\n",
       "      <td>1.025000</td>\n",
       "      <td>5.000000</td>\n",
       "      <td>5.000000</td>\n",
       "      <td>490.000000</td>\n",
       "      <td>391.000000</td>\n",
       "      <td>76.000000</td>\n",
       "      <td>163.000000</td>\n",
       "      <td>47.000000</td>\n",
       "      <td>17.800000</td>\n",
       "    </tr>\n",
       "  </tbody>\n",
       "</table>\n",
       "</div>"
      ]
     },
     "execution_count": 834,
     "metadata": {},
     "output_type": "execute_result"
    }
   ],
   "execution_count": 834
  },
  {
   "metadata": {
    "ExecuteTime": {
     "end_time": "2024-10-15T19:16:37.087410Z",
     "start_time": "2024-10-15T19:16:37.077591Z"
    }
   },
   "cell_type": "code",
   "source": "df.info()",
   "id": "6a96a86b873e47ce",
   "outputs": [
    {
     "name": "stdout",
     "output_type": "stream",
     "text": [
      "<class 'pandas.core.frame.DataFrame'>\n",
      "RangeIndex: 400 entries, 0 to 399\n",
      "Data columns (total 26 columns):\n",
      " #   Column          Non-Null Count  Dtype  \n",
      "---  ------          --------------  -----  \n",
      " 0   id              400 non-null    int64  \n",
      " 1   age             391 non-null    float64\n",
      " 2   bp              388 non-null    float64\n",
      " 3   sg              353 non-null    float64\n",
      " 4   al              354 non-null    float64\n",
      " 5   su              351 non-null    float64\n",
      " 6   rbc             248 non-null    object \n",
      " 7   pc              335 non-null    object \n",
      " 8   pcc             396 non-null    object \n",
      " 9   ba              396 non-null    object \n",
      " 10  bgr             356 non-null    float64\n",
      " 11  bu              381 non-null    float64\n",
      " 12  sc              383 non-null    float64\n",
      " 13  sod             313 non-null    float64\n",
      " 14  pot             312 non-null    float64\n",
      " 15  hemo            348 non-null    float64\n",
      " 16  pcv             330 non-null    object \n",
      " 17  wc              295 non-null    object \n",
      " 18  rc              270 non-null    object \n",
      " 19  htn             398 non-null    object \n",
      " 20  dm              398 non-null    object \n",
      " 21  cad             398 non-null    object \n",
      " 22  appet           399 non-null    object \n",
      " 23  pe              399 non-null    object \n",
      " 24  ane             399 non-null    object \n",
      " 25  classification  400 non-null    object \n",
      "dtypes: float64(11), int64(1), object(14)\n",
      "memory usage: 81.4+ KB\n"
     ]
    }
   ],
   "execution_count": 835
  },
  {
   "metadata": {},
   "cell_type": "markdown",
   "source": "Some of the columns are recognized as objects even though they are numeric.Pandas  may not recognize some of the null values. This might be a problem. We can specify the datatypes manually for numerical values but that won't work for nominal data.  ",
   "id": "7c6cb7f9c7d78443"
  },
  {
   "metadata": {
    "ExecuteTime": {
     "end_time": "2024-10-15T19:16:37.186964Z",
     "start_time": "2024-10-15T19:16:37.173118Z"
    }
   },
   "cell_type": "code",
   "source": [
    "for column in ['pcv', 'wc', 'rc']:\n",
    "    try:\n",
    "        df[column] = df[column].astype(float)\n",
    "    except ValueError as err:\n",
    "        print(f'{column}: {err}')"
   ],
   "id": "8156438d59d45968",
   "outputs": [
    {
     "name": "stdout",
     "output_type": "stream",
     "text": [
      "pcv: could not convert string to float: '\\t?'\n",
      "wc: could not convert string to float: '\\t?'\n",
      "rc: could not convert string to float: '\\t?'\n"
     ]
    }
   ],
   "execution_count": 836
  },
  {
   "metadata": {},
   "cell_type": "markdown",
   "source": "Some null values are marked with question mark. We should replace these values by nan.",
   "id": "ead463e8eafe6c7c"
  },
  {
   "metadata": {
    "ExecuteTime": {
     "end_time": "2024-10-15T19:16:37.336423Z",
     "start_time": "2024-10-15T19:16:37.325710Z"
    }
   },
   "cell_type": "code",
   "source": [
    "df.replace('\\t?', np.nan, inplace=True)\n",
    "for column in ['pcv', 'wc', 'rc']:\n",
    "    df[column] = df[column].astype(float)\n",
    "df.info()"
   ],
   "id": "f5f6868c9decf696",
   "outputs": [
    {
     "name": "stdout",
     "output_type": "stream",
     "text": [
      "<class 'pandas.core.frame.DataFrame'>\n",
      "RangeIndex: 400 entries, 0 to 399\n",
      "Data columns (total 26 columns):\n",
      " #   Column          Non-Null Count  Dtype  \n",
      "---  ------          --------------  -----  \n",
      " 0   id              400 non-null    int64  \n",
      " 1   age             391 non-null    float64\n",
      " 2   bp              388 non-null    float64\n",
      " 3   sg              353 non-null    float64\n",
      " 4   al              354 non-null    float64\n",
      " 5   su              351 non-null    float64\n",
      " 6   rbc             248 non-null    object \n",
      " 7   pc              335 non-null    object \n",
      " 8   pcc             396 non-null    object \n",
      " 9   ba              396 non-null    object \n",
      " 10  bgr             356 non-null    float64\n",
      " 11  bu              381 non-null    float64\n",
      " 12  sc              383 non-null    float64\n",
      " 13  sod             313 non-null    float64\n",
      " 14  pot             312 non-null    float64\n",
      " 15  hemo            348 non-null    float64\n",
      " 16  pcv             329 non-null    float64\n",
      " 17  wc              294 non-null    float64\n",
      " 18  rc              269 non-null    float64\n",
      " 19  htn             398 non-null    object \n",
      " 20  dm              398 non-null    object \n",
      " 21  cad             398 non-null    object \n",
      " 22  appet           399 non-null    object \n",
      " 23  pe              399 non-null    object \n",
      " 24  ane             399 non-null    object \n",
      " 25  classification  400 non-null    object \n",
      "dtypes: float64(14), int64(1), object(11)\n",
      "memory usage: 81.4+ KB\n"
     ]
    }
   ],
   "execution_count": 837
  },
  {
   "metadata": {},
   "cell_type": "markdown",
   "source": "This change, increased the null values by one for these columns. ",
   "id": "5c8e9656d0a0834a"
  },
  {
   "metadata": {},
   "cell_type": "markdown",
   "source": [
    "## Encoding the data\n",
    "We have a lot of text columns that need to be encoded so we could train our model. Fortunately these columns mostly contains binary data. Since we have null values, using an encoder like LabelEncoder and OneHotEncoder will mess up with the data, it may label nulls as values, so for our convenience we will just replace the values with 1s and 0s. "
   ],
   "id": "660c2e37f0227ad8"
  },
  {
   "metadata": {
    "ExecuteTime": {
     "end_time": "2024-10-15T19:16:37.473522Z",
     "start_time": "2024-10-15T19:16:37.441113Z"
    }
   },
   "cell_type": "code",
   "source": [
    "df.columns = df.columns.str.strip()\n",
    "df = df.apply(lambda x: x.str.replace('\\t', '', regex=True).str.strip() if x.dtype == 'object' else x)\n",
    "for column in ['rbc', 'pc', 'pcc', 'ba', 'htn', 'dm', 'cad', 'appet', 'pe', 'ane', 'classification']:\n",
    "    df[column] = df[column].replace({'normal': 1, 'present': 1, 'yes': 1, 'ckd': 1,\n",
    "                                     'abnormal': 0, 'notpresent': 0, 'no': 0, 'notckd': 0, 'good': 1, 'poor': 0})\n",
    "for column in df.columns:\n",
    "    df[column] = df[column].astype(float)\n",
    "df.info()"
   ],
   "id": "9431f55900166982",
   "outputs": [
    {
     "name": "stdout",
     "output_type": "stream",
     "text": [
      "<class 'pandas.core.frame.DataFrame'>\n",
      "RangeIndex: 400 entries, 0 to 399\n",
      "Data columns (total 26 columns):\n",
      " #   Column          Non-Null Count  Dtype  \n",
      "---  ------          --------------  -----  \n",
      " 0   id              400 non-null    float64\n",
      " 1   age             391 non-null    float64\n",
      " 2   bp              388 non-null    float64\n",
      " 3   sg              353 non-null    float64\n",
      " 4   al              354 non-null    float64\n",
      " 5   su              351 non-null    float64\n",
      " 6   rbc             248 non-null    float64\n",
      " 7   pc              335 non-null    float64\n",
      " 8   pcc             396 non-null    float64\n",
      " 9   ba              396 non-null    float64\n",
      " 10  bgr             356 non-null    float64\n",
      " 11  bu              381 non-null    float64\n",
      " 12  sc              383 non-null    float64\n",
      " 13  sod             313 non-null    float64\n",
      " 14  pot             312 non-null    float64\n",
      " 15  hemo            348 non-null    float64\n",
      " 16  pcv             329 non-null    float64\n",
      " 17  wc              294 non-null    float64\n",
      " 18  rc              269 non-null    float64\n",
      " 19  htn             398 non-null    float64\n",
      " 20  dm              398 non-null    float64\n",
      " 21  cad             398 non-null    float64\n",
      " 22  appet           399 non-null    float64\n",
      " 23  pe              399 non-null    float64\n",
      " 24  ane             399 non-null    float64\n",
      " 25  classification  400 non-null    float64\n",
      "dtypes: float64(26)\n",
      "memory usage: 81.4 KB\n"
     ]
    }
   ],
   "execution_count": 838
  },
  {
   "metadata": {},
   "cell_type": "markdown",
   "source": [
    "### Handling missing values\n",
    "We will try 5 methods for handling missing values:\n",
    "- dropping null rows\n",
    "- replacing null values with -1\n",
    "- knn inputter\n",
    "- simple inputer(strategy mean)\n",
    "- mice\n",
    "before that, let's see how many null values there are."
   ],
   "id": "42c57343a87cd679"
  },
  {
   "metadata": {
    "ExecuteTime": {
     "end_time": "2024-10-15T19:16:37.895581Z",
     "start_time": "2024-10-15T19:16:37.546286Z"
    }
   },
   "cell_type": "code",
   "source": [
    "plt.figure(figsize=(18, 8))\n",
    "\n",
    "colours = ['#34495E', 'seagreen']\n",
    "sns.heatmap(df.isnull(), cmap=sns.color_palette(colours))"
   ],
   "id": "c8af9a45385d662b",
   "outputs": [
    {
     "data": {
      "text/plain": [
       "<Axes: >"
      ]
     },
     "execution_count": 839,
     "metadata": {},
     "output_type": "execute_result"
    },
    {
     "data": {
      "text/plain": [
       "<Figure size 1800x800 with 2 Axes>"
      ],
      "image/png": "[encoded data removed]"
     },
     "metadata": {},
     "output_type": "display_data"
    }
   ],
   "execution_count": 839
  },
  {
   "metadata": {},
   "cell_type": "markdown",
   "source": "As seen from this histogram, the columns with most null values are rbc, sod, pot, rc, wc.",
   "id": "f3e401ece5480f3"
  },
  {
   "metadata": {
    "ExecuteTime": {
     "end_time": "2024-10-15T19:16:38.384626Z",
     "start_time": "2024-10-15T19:16:37.966688Z"
    }
   },
   "cell_type": "code",
   "source": [
    "sns.displot(\n",
    "    data=df.isnull().melt(value_name='missing'),\n",
    "    y='variable',\n",
    "    hue='missing',\n",
    "    multiple='fill',\n",
    "    height=8,\n",
    "    aspect=1.1\n",
    ")\n",
    "\n",
    "# specifying a threshold value\n",
    "plt.axvline(0.4, color='r')"
   ],
   "id": "1a7a759642c5d3e0",
   "outputs": [
    {
     "data": {
      "text/plain": [
       "<matplotlib.lines.Line2D at 0x1752cb2a810>"
      ]
     },
     "execution_count": 840,
     "metadata": {},
     "output_type": "execute_result"
    },
    {
     "data": {
      "text/plain": [
       "<Figure size 963.875x800 with 1 Axes>"
      ],
      "image/png": "[encoded data removed]"
     },
     "metadata": {},
     "output_type": "display_data"
    }
   ],
   "execution_count": 840
  },
  {
   "metadata": {},
   "cell_type": "markdown",
   "source": "Our observation can be more clearly be seen in this plot.  ",
   "id": "d5b77f952c286848"
  },
  {
   "metadata": {},
   "cell_type": "markdown",
   "source": "#### Creating our datasets ",
   "id": "5fe1eac18fa0ca33"
  },
  {
   "metadata": {
    "ExecuteTime": {
     "end_time": "2024-10-15T19:16:39.348497Z",
     "start_time": "2024-10-15T19:16:38.460903Z"
    }
   },
   "cell_type": "code",
   "source": [
    "datasets = {\n",
    "    # Dropping rows that have nulls\n",
    "    'Dropped null values': df.dropna(how='any', axis=0),\n",
    "    # Replacing null values with -1\n",
    "    'Filled with -1': df.fillna(value=-1),\n",
    "    # KNNImputer with different parameters\n",
    "    'knn with n=2': pd.DataFrame(KNNImputer(n_neighbors=2).fit_transform(df), columns=df.columns),\n",
    "    'knn with n=3': pd.DataFrame(KNNImputer(n_neighbors=3).fit_transform(df), columns=df.columns),\n",
    "    'knn with n=4': pd.DataFrame(KNNImputer(n_neighbors=4).fit_transform(df), columns=df.columns),\n",
    "    # SimpleImputer with strategy mean\n",
    "    'SimpleImputer with mean strategy': pd.DataFrame(SimpleImputer(strategy='mean').fit_transform(df), columns=df.columns),\n",
    "    # Mice\n",
    "    'Mice': pd.DataFrame(IterativeImputer(max_iter=10, random_state=42).fit_transform(df), columns=df.columns),\n",
    "}\n",
    "\n",
    "results = {}\n",
    "\n",
    "for name, dataset in datasets.items():\n",
    "    X_train, X_test, y_train, y_test = train_test_split(dataset.drop('classification', axis=1), dataset['classification'],\n",
    "                                                        test_size=0.6,\n",
    "                                                        random_state=42)\n",
    "    # Train Logistic Regression\n",
    "    lr_model = LogisticRegression(max_iter=10000)\n",
    "    lr_model.fit(X_train, y_train)\n",
    "    lr_pred = lr_model.predict(X_test)\n",
    "    lr_accuracy = accuracy_score(y_test, lr_pred)\n",
    "# \n",
    "    # Train Decision Tree Classifier\n",
    "    dt_model = DecisionTreeClassifier()\n",
    "    dt_model.fit(X_train, y_train)\n",
    "    dt_pred = dt_model.predict(X_test)\n",
    "    dt_accuracy = f1_score(y_test, dt_pred)\n",
    "\n",
    "    # Store the results\n",
    "    results[name] = {'Logistic Regression Accuracy': lr_accuracy, 'Decision Tree Accuracy': dt_accuracy, 'Average Accuracy': (lr_accuracy+dt_accuracy)/2}\n",
    "\n",
    "results_df = pd.DataFrame(results).T  # Transpose for better readability\n",
    "results_df.reset_index(inplace=True)\n",
    "results_df.columns = ['Imputation Strategy', 'Logistic Regression Accuracy', 'Decision Tree Accuracy', 'Average Accuracy']\n",
    "\n",
    "results_df"
   ],
   "id": "317faecd1d476df0",
   "outputs": [
    {
     "data": {
      "text/plain": [
       "                Imputation Strategy  Logistic Regression Accuracy  \\\n",
       "0               Dropped null values                      0.989474   \n",
       "1                    Filled with -1                      1.000000   \n",
       "2                      knn with n=2                      0.970833   \n",
       "3                      knn with n=3                      0.970833   \n",
       "4                      knn with n=4                      0.975000   \n",
       "5  SimpleImputer with mean strategy                      0.979167   \n",
       "6                              Mice                      0.975000   \n",
       "\n",
       "   Decision Tree Accuracy  Average Accuracy  \n",
       "0                0.920000          0.954737  \n",
       "1                0.996721          0.998361  \n",
       "2                0.996721          0.983777  \n",
       "3                0.996721          0.983777  \n",
       "4                0.996721          0.985861  \n",
       "5                0.996721          0.987944  \n",
       "6                0.996721          0.985861  "
      ],
      "text/html": [
       "<div>\n",
       "<style scoped>\n",
       "    .dataframe tbody tr th:only-of-type {\n",
       "        vertical-align: middle;\n",
       "    }\n",
       "\n",
       "    .dataframe tbody tr th {\n",
       "        vertical-align: top;\n",
       "    }\n",
       "\n",
       "    .dataframe thead th {\n",
       "        text-align: right;\n",
       "    }\n",
       "</style>\n",
       "<table border=\"1\" class=\"dataframe\">\n",
       "  <thead>\n",
       "    <tr style=\"text-align: right;\">\n",
       "      <th></th>\n",
       "      <th>Imputation Strategy</th>\n",
       "      <th>Logistic Regression Accuracy</th>\n",
       "      <th>Decision Tree Accuracy</th>\n",
       "      <th>Average Accuracy</th>\n",
       "    </tr>\n",
       "  </thead>\n",
       "  <tbody>\n",
       "    <tr>\n",
       "      <th>0</th>\n",
       "      <td>Dropped null values</td>\n",
       "      <td>0.989474</td>\n",
       "      <td>0.920000</td>\n",
       "      <td>0.954737</td>\n",
       "    </tr>\n",
       "    <tr>\n",
       "      <th>1</th>\n",
       "      <td>Filled with -1</td>\n",
       "      <td>1.000000</td>\n",
       "      <td>0.996721</td>\n",
       "      <td>0.998361</td>\n",
       "    </tr>\n",
       "    <tr>\n",
       "      <th>2</th>\n",
       "      <td>knn with n=2</td>\n",
       "      <td>0.970833</td>\n",
       "      <td>0.996721</td>\n",
       "      <td>0.983777</td>\n",
       "    </tr>\n",
       "    <tr>\n",
       "      <th>3</th>\n",
       "      <td>knn with n=3</td>\n",
       "      <td>0.970833</td>\n",
       "      <td>0.996721</td>\n",
       "      <td>0.983777</td>\n",
       "    </tr>\n",
       "    <tr>\n",
       "      <th>4</th>\n",
       "      <td>knn with n=4</td>\n",
       "      <td>0.975000</td>\n",
       "      <td>0.996721</td>\n",
       "      <td>0.985861</td>\n",
       "    </tr>\n",
       "    <tr>\n",
       "      <th>5</th>\n",
       "      <td>SimpleImputer with mean strategy</td>\n",
       "      <td>0.979167</td>\n",
       "      <td>0.996721</td>\n",
       "      <td>0.987944</td>\n",
       "    </tr>\n",
       "    <tr>\n",
       "      <th>6</th>\n",
       "      <td>Mice</td>\n",
       "      <td>0.975000</td>\n",
       "      <td>0.996721</td>\n",
       "      <td>0.985861</td>\n",
       "    </tr>\n",
       "  </tbody>\n",
       "</table>\n",
       "</div>"
      ]
     },
     "execution_count": 841,
     "metadata": {},
     "output_type": "execute_result"
    }
   ],
   "execution_count": 841
  },
  {
   "metadata": {},
   "cell_type": "markdown",
   "source": "Well, the main observation is that the type of imputer didn't influence that much decision tree accuracy except for when we dropped null values, so the score mainly depends on logistic regression accuracy. We see that the one that won is filled with -1 and the second one is mean strategy. K nearest neighbour with param 4 and Mice have similar performance and knn with n=2 and n=3 too. Dropping null values gives high score for logistic regression but lower for decision tree. For next steps, I will choose mice dataset.",
   "id": "beb92973629f7047"
  },
  {
   "metadata": {
    "ExecuteTime": {
     "end_time": "2024-10-15T19:16:39.455898Z",
     "start_time": "2024-10-15T19:16:39.451269Z"
    }
   },
   "cell_type": "code",
   "source": "df = datasets['Mice']",
   "id": "763543e5b5bc8f4c",
   "outputs": [],
   "execution_count": 842
  },
  {
   "metadata": {},
   "cell_type": "markdown",
   "source": [
    "# Support Vector Machines\n",
    "## Tuning\n",
    "Firstly, we will try to find best params"
   ],
   "id": "85c91ecc6ca3015f"
  },
  {
   "metadata": {
    "ExecuteTime": {
     "end_time": "2024-10-15T19:16:42.479236Z",
     "start_time": "2024-10-15T19:16:39.494536Z"
    }
   },
   "cell_type": "code",
   "source": [
    "params = {\n",
    "    'kernel': ['rbf', 'linear', 'poly', 'sigmoid'],\n",
    "    'degree': [2, 3],  \n",
    "    'gamma': [0.1, 1, 'scale'],  \n",
    "    'probability': [True, False],  \n",
    "}\n",
    "\n",
    "grid = GridSearchCV(SVC(random_state=42), param_grid=params, cv=5, n_jobs=2, verbose=2)\n",
    "grid.fit(X_train, y_train)\n",
    "print(grid.best_score_, grid.best_params_)"
   ],
   "id": "e5ca6c15d3475321",
   "outputs": [
    {
     "name": "stdout",
     "output_type": "stream",
     "text": [
      "Fitting 5 folds for each of 48 candidates, totalling 240 fits\n",
      "1.0 {'degree': 2, 'gamma': 0.1, 'kernel': 'linear', 'probability': True}\n"
     ]
    }
   ],
   "execution_count": 843
  },
  {
   "metadata": {},
   "cell_type": "markdown",
   "source": "## Getting performance metrics",
   "id": "57130229441d4a21"
  },
  {
   "metadata": {
    "ExecuteTime": {
     "end_time": "2024-10-15T19:16:42.526017Z",
     "start_time": "2024-10-15T19:16:42.480242Z"
    }
   },
   "cell_type": "code",
   "source": [
    "svc_model = SVC(random_state=42, **{'degree': 2, 'gamma': 0.1, 'kernel': 'linear', 'probability': True})\n",
    "svc_model.fit(X_train, y_train)\n",
    "y_predicted = svc_model.predict(X_test)\n",
    "print(classification_report(y_test, y_predicted))"
   ],
   "id": "e065cbe9c12e4c10",
   "outputs": [
    {
     "name": "stdout",
     "output_type": "stream",
     "text": [
      "              precision    recall  f1-score   support\n",
      "\n",
      "         0.0       0.99      1.00      0.99        88\n",
      "         1.0       1.00      0.99      1.00       152\n",
      "\n",
      "    accuracy                           1.00       240\n",
      "   macro avg       0.99      1.00      1.00       240\n",
      "weighted avg       1.00      1.00      1.00       240\n",
      "\n"
     ]
    }
   ],
   "execution_count": 844
  },
  {
   "metadata": {},
   "cell_type": "markdown",
   "source": "We got perfect score. This might be because we have a very small dataset to train to test, only 400 records, that's why we have inflated performance scores for all models and in real life the model might be not as good. ",
   "id": "89b22bd1d17cc5fa"
  },
  {
   "metadata": {},
   "cell_type": "markdown",
   "source": "## Comparing with other models",
   "id": "382dcc290803ca21"
  },
  {
   "metadata": {
    "ExecuteTime": {
     "end_time": "2024-10-15T19:16:42.604677Z",
     "start_time": "2024-10-15T19:16:42.590732Z"
    }
   },
   "cell_type": "code",
   "source": [
    "bernoulli_bayes = BernoulliNB()\n",
    "bernoulli_bayes.fit(X_train, y_train)\n",
    "predicted_churn_bernoulli_bayes = bernoulli_bayes.predict(X_test)\n",
    "print(classification_report(predicted_churn_bernoulli_bayes, y_test))"
   ],
   "id": "cf003e8bd601e39f",
   "outputs": [
    {
     "name": "stdout",
     "output_type": "stream",
     "text": [
      "              precision    recall  f1-score   support\n",
      "\n",
      "         0.0       0.95      0.78      0.86       108\n",
      "         1.0       0.84      0.97      0.90       132\n",
      "\n",
      "    accuracy                           0.88       240\n",
      "   macro avg       0.90      0.87      0.88       240\n",
      "weighted avg       0.89      0.88      0.88       240\n",
      "\n"
     ]
    }
   ],
   "execution_count": 845
  },
  {
   "metadata": {
    "ExecuteTime": {
     "end_time": "2024-10-15T19:16:42.697500Z",
     "start_time": "2024-10-15T19:16:42.680600Z"
    }
   },
   "cell_type": "code",
   "source": [
    "decision_tree = DecisionTreeClassifier(random_state=42,\n",
    "                                       **{'max_depth': None, 'max_features': 'sqrt', 'max_leaf_nodes': None,\n",
    "                                          'min_impurity_decrease': 0.01, 'min_samples_leaf': 1, 'min_samples_split': 2,\n",
    "                                          'min_weight_fraction_leaf': 0.05})\n",
    "decision_tree.fit(X_train, y_train)\n",
    "dt_predicted = decision_tree.predict(X_test)\n",
    "print(classification_report(y_test, dt_predicted))"
   ],
   "id": "3c17103502f47c30",
   "outputs": [
    {
     "name": "stdout",
     "output_type": "stream",
     "text": [
      "              precision    recall  f1-score   support\n",
      "\n",
      "         0.0       1.00      1.00      1.00        88\n",
      "         1.0       1.00      1.00      1.00       152\n",
      "\n",
      "    accuracy                           1.00       240\n",
      "   macro avg       1.00      1.00      1.00       240\n",
      "weighted avg       1.00      1.00      1.00       240\n",
      "\n"
     ]
    }
   ],
   "execution_count": 846
  },
  {
   "metadata": {
    "ExecuteTime": {
     "end_time": "2024-10-15T19:16:42.782536Z",
     "start_time": "2024-10-15T19:16:42.775466Z"
    }
   },
   "cell_type": "code",
   "source": "",
   "id": "c5a271be0caa950d",
   "outputs": [],
   "execution_count": null
  },
  {
   "metadata": {},
   "cell_type": "markdown",
   "source": "As we see, decision tree has best score on this dataset, SVM being second, BernoulliNB has the worst score having 0.88 and logistic regression and Random Forest have 0.97 and 0.99. The reason why Decision Tree might be slightly ahead on Random Forest is because it uses different parameters.",
   "id": "2355cf2941412162"
  },
  {
   "metadata": {},
   "cell_type": "markdown",
   "source": [
    "## Preprocessing techniques\n",
    "Let's see if we can improve and get a perfect score for svm using PCA. \n",
    "### Transform and split\n"
   ],
   "id": "8883cb2acd5e94bd"
  },
  {
   "metadata": {
    "ExecuteTime": {
     "end_time": "2024-10-15T19:16:42.856459Z",
     "start_time": "2024-10-15T19:16:42.851394Z"
    }
   },
   "cell_type": "code",
   "source": [
    "pca = PCA(n_components=3)\n",
    "X_pca = pca.fit_transform(df.drop('classification', axis=1))\n",
    "\n",
    "# Spliting data\n",
    "X_train, X_test, y_train, y_test = train_test_split(X_pca, df['classification'], test_size=0.4, random_state=42)"
   ],
   "id": "a18610bc457ce1f7",
   "outputs": [],
   "execution_count": 847
  },
  {
   "metadata": {},
   "cell_type": "markdown",
   "source": "### Training SVC",
   "id": "8be2bb2d11392d43"
  },
  {
   "metadata": {
    "ExecuteTime": {
     "end_time": "2024-10-15T19:16:43.815813Z",
     "start_time": "2024-10-15T19:16:42.939220Z"
    }
   },
   "cell_type": "code",
   "source": [
    "svc_model = SVC(random_state=42, **{'degree': 2, 'gamma': 0.1, 'kernel': 'linear', 'probability': True})\n",
    "svc_model.fit(X_train, y_train)\n",
    "y_predicted = svc_model.predict(X_test)\n",
    "print(classification_report(y_test, y_predicted))"
   ],
   "id": "764d54b9d6ea6982",
   "outputs": [
    {
     "name": "stdout",
     "output_type": "stream",
     "text": [
      "              precision    recall  f1-score   support\n",
      "\n",
      "         0.0       0.98      1.00      0.99        58\n",
      "         1.0       1.00      0.99      1.00       102\n",
      "\n",
      "    accuracy                           0.99       160\n",
      "   macro avg       0.99      1.00      0.99       160\n",
      "weighted avg       0.99      0.99      0.99       160\n",
      "\n"
     ]
    }
   ],
   "execution_count": 848
  },
  {
   "metadata": {},
   "cell_type": "markdown",
   "source": [
    "As we see, the performance hasn't changed a little, except precision is slightly behind.\n",
    "# Conclusion\n",
    "In this notebook, I understood how handling null values can affect our model performance. Also we could've get better results if we got more data. Now, I think that SVC is a pretty solid model for classification problems but in this case, decision trees showed a slightly better result. "
   ],
   "id": "fc9954aaf5e1080a"
  }
 ],
 "metadata": {
  "kernelspec": {
   "display_name": "Python 3",
   "language": "python",
   "name": "python3"
  },
  "language_info": {
   "codemirror_mode": {
    "name": "ipython",
    "version": 2
   },
   "file_extension": ".py",
   "mimetype": "text/x-python",
   "name": "python",
   "nbconvert_exporter": "python",
   "pygments_lexer": "ipython2",
   "version": "2.7.6"
  }
 },
 "nbformat": 4,
 "nbformat_minor": 5
}
